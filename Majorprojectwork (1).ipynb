{
  "cells": [
    {
      "cell_type": "markdown",
      "metadata": {
        "id": "xKwzNgMmi4iM"
      },
      "source": [
        "## **Installing** **Libraries**"
      ]
    },
    {
      "cell_type": "code",
      "execution_count": 22,
      "metadata": {
        "colab": {
          "base_uri": "https://localhost:8080/"
        },
        "id": "26jaIgUEeWrJ",
        "outputId": "16d6faa6-948d-4fcc-b078-1489c4e221a2"
      },
      "outputs": [
        {
          "name": "stdout",
          "output_type": "stream",
          "text": [
            "Requirement already satisfied: scikit-learn==1.2.2 in /usr/local/lib/python3.11/dist-packages (1.2.2)\n",
            "Requirement already satisfied: xgboost in /usr/local/lib/python3.11/dist-packages (2.1.3)\n",
            "Requirement already satisfied: lightgbm in /usr/local/lib/python3.11/dist-packages (4.5.0)\n",
            "Requirement already satisfied: numpy>=1.17.3 in /usr/local/lib/python3.11/dist-packages (from scikit-learn==1.2.2) (1.26.4)\n",
            "Requirement already satisfied: scipy>=1.3.2 in /usr/local/lib/python3.11/dist-packages (from scikit-learn==1.2.2) (1.13.1)\n",
            "Requirement already satisfied: joblib>=1.1.1 in /usr/local/lib/python3.11/dist-packages (from scikit-learn==1.2.2) (1.4.2)\n",
            "Requirement already satisfied: threadpoolctl>=2.0.0 in /usr/local/lib/python3.11/dist-packages (from scikit-learn==1.2.2) (3.5.0)\n",
            "Requirement already satisfied: nvidia-nccl-cu12 in /usr/local/lib/python3.11/dist-packages (from xgboost) (2.21.5)\n"
          ]
        }
      ],
      "source": [
        "# Install required libraries\n",
        "!pip install scikit-learn==1.2.2 xgboost lightgbm"
      ]
    },
    {
      "cell_type": "code",
      "execution_count": 23,
      "metadata": {
        "id": "oocNGDSDeWtw"
      },
      "outputs": [],
      "source": [
        "import numpy as np\n",
        "import pandas as pd\n",
        "from sklearn.model_selection import train_test_split\n",
        "from sklearn.preprocessing import StandardScaler, OneHotEncoder, PolynomialFeatures\n",
        "from sklearn.compose import ColumnTransformer\n",
        "from sklearn.pipeline import Pipeline\n",
        "from sklearn.impute import SimpleImputer\n",
        "from sklearn.linear_model import LinearRegression\n",
        "from sklearn.tree import DecisionTreeRegressor\n",
        "from sklearn.ensemble import RandomForestRegressor\n",
        "from sklearn.svm import SVR\n",
        "from sklearn.neighbors import KNeighborsRegressor\n",
        "from sklearn.neural_network import MLPRegressor\n",
        "import xgboost as xgb\n",
        "import lightgbm as lgb\n",
        "from sklearn.metrics import r2_score, mean_squared_error, mean_absolute_error\n"
      ]
    },
    {
      "cell_type": "markdown",
      "metadata": {
        "id": "a74YXEQcjLkd"
      },
      "source": [
        "# **Data Collection**"
      ]
    },
    {
      "cell_type": "code",
      "execution_count": 24,
      "metadata": {
        "colab": {
          "base_uri": "https://localhost:8080/",
          "height": 243
        },
        "id": "b2VcF4EqeWwC",
        "outputId": "d18496ac-fe20-493d-8ec9-948215900f42"
      },
      "outputs": [
        {
          "name": "stdout",
          "output_type": "stream",
          "text": [
            "Drive already mounted at /content/drive; to attempt to forcibly remount, call drive.mount(\"/content/drive\", force_remount=True).\n"
          ]
        },
        {
          "data": {
            "application/vnd.google.colaboratory.intrinsic+json": {
              "summary": "{\n  \"name\": \"df\",\n  \"rows\": 4000,\n  \"fields\": [\n    {\n      \"column\": \"N\",\n      \"properties\": {\n        \"dtype\": \"number\",\n        \"std\": 29,\n        \"min\": 20,\n        \"max\": 119,\n        \"num_unique_values\": 100,\n        \"samples\": [\n          85,\n          82,\n          31\n        ],\n        \"semantic_type\": \"\",\n        \"description\": \"\"\n      }\n    },\n    {\n      \"column\": \"P\",\n      \"properties\": {\n        \"dtype\": \"number\",\n        \"std\": 14,\n        \"min\": 10,\n        \"max\": 59,\n        \"num_unique_values\": 50,\n        \"samples\": [\n          10,\n          52,\n          13\n        ],\n        \"semantic_type\": \"\",\n        \"description\": \"\"\n      }\n    },\n    {\n      \"column\": \"K\",\n      \"properties\": {\n        \"dtype\": \"number\",\n        \"std\": 17,\n        \"min\": 10,\n        \"max\": 69,\n        \"num_unique_values\": 60,\n        \"samples\": [\n          24,\n          37,\n          61\n        ],\n        \"semantic_type\": \"\",\n        \"description\": \"\"\n      }\n    },\n    {\n      \"column\": \"temperature\",\n      \"properties\": {\n        \"dtype\": \"number\",\n        \"std\": 4.326299595573174,\n        \"min\": 20.00277792943164,\n        \"max\": 34.99611908387139,\n        \"num_unique_values\": 4000,\n        \"samples\": [\n          23.11204157088316,\n          31.571449834894047,\n          27.59684565554771\n        ],\n        \"semantic_type\": \"\",\n        \"description\": \"\"\n      }\n    },\n    {\n      \"column\": \"humidity\",\n      \"properties\": {\n        \"dtype\": \"number\",\n        \"std\": 14.37044577149078,\n        \"min\": 40.0059322455425,\n        \"max\": 89.99463333525247,\n        \"num_unique_values\": 4000,\n        \"samples\": [\n          83.53631533260977,\n          87.21344354453602,\n          75.77284776799083\n        ],\n        \"semantic_type\": \"\",\n        \"description\": \"\"\n      }\n    },\n    {\n      \"column\": \"ph\",\n      \"properties\": {\n        \"dtype\": \"number\",\n        \"std\": 0.5732620837822278,\n        \"min\": 5.50001859195117,\n        \"max\": 7.49938966274239,\n        \"num_unique_values\": 4000,\n        \"samples\": [\n          6.7646452918885,\n          7.079953160123601,\n          5.848776532499235\n        ],\n        \"semantic_type\": \"\",\n        \"description\": \"\"\n      }\n    },\n    {\n      \"column\": \"rainfall\",\n      \"properties\": {\n        \"dtype\": \"number\",\n        \"std\": 86.94050120591454,\n        \"min\": 100.0998903655324,\n        \"max\": 399.8554394246359,\n        \"num_unique_values\": 4000,\n        \"samples\": [\n          114.61575145472436,\n          132.63046946613298,\n          258.4443642386092\n        ],\n        \"semantic_type\": \"\",\n        \"description\": \"\"\n      }\n    },\n    {\n      \"column\": \"Crop Name\",\n      \"properties\": {\n        \"dtype\": \"category\",\n        \"num_unique_values\": 22,\n        \"samples\": [\n          \"mango\",\n          \"pomegranate\",\n          \"cotton\"\n        ],\n        \"semantic_type\": \"\",\n        \"description\": \"\"\n      }\n    },\n    {\n      \"column\": \"Yield\",\n      \"properties\": {\n        \"dtype\": \"number\",\n        \"std\": 43.503457663845936,\n        \"min\": 17.686717559973424,\n        \"max\": 256.8724574009921,\n        \"num_unique_values\": 4000,\n        \"samples\": [\n          39.27644829820132,\n          112.00988707228991,\n          187.4408600228393\n        ],\n        \"semantic_type\": \"\",\n        \"description\": \"\"\n      }\n    }\n  ]\n}",
              "type": "dataframe",
              "variable_name": "df"
            },
            "text/html": [
              "\n",
              "  <div id=\"df-5b069bcc-e724-4804-91c4-65fd495b60af\" class=\"colab-df-container\">\n",
              "    <div>\n",
              "<style scoped>\n",
              "    .dataframe tbody tr th:only-of-type {\n",
              "        vertical-align: middle;\n",
              "    }\n",
              "\n",
              "    .dataframe tbody tr th {\n",
              "        vertical-align: top;\n",
              "    }\n",
              "\n",
              "    .dataframe thead th {\n",
              "        text-align: right;\n",
              "    }\n",
              "</style>\n",
              "<table border=\"1\" class=\"dataframe\">\n",
              "  <thead>\n",
              "    <tr style=\"text-align: right;\">\n",
              "      <th></th>\n",
              "      <th>N</th>\n",
              "      <th>P</th>\n",
              "      <th>K</th>\n",
              "      <th>temperature</th>\n",
              "      <th>humidity</th>\n",
              "      <th>ph</th>\n",
              "      <th>rainfall</th>\n",
              "      <th>Crop Name</th>\n",
              "      <th>Yield</th>\n",
              "    </tr>\n",
              "  </thead>\n",
              "  <tbody>\n",
              "    <tr>\n",
              "      <th>0</th>\n",
              "      <td>71</td>\n",
              "      <td>11</td>\n",
              "      <td>24</td>\n",
              "      <td>20.756834</td>\n",
              "      <td>47.368220</td>\n",
              "      <td>6.730602</td>\n",
              "      <td>364.587903</td>\n",
              "      <td>mango</td>\n",
              "      <td>86.042064</td>\n",
              "    </tr>\n",
              "    <tr>\n",
              "      <th>1</th>\n",
              "      <td>112</td>\n",
              "      <td>35</td>\n",
              "      <td>51</td>\n",
              "      <td>21.568443</td>\n",
              "      <td>74.711341</td>\n",
              "      <td>6.250531</td>\n",
              "      <td>148.512204</td>\n",
              "      <td>orange</td>\n",
              "      <td>163.059584</td>\n",
              "    </tr>\n",
              "    <tr>\n",
              "      <th>2</th>\n",
              "      <td>34</td>\n",
              "      <td>22</td>\n",
              "      <td>65</td>\n",
              "      <td>33.215061</td>\n",
              "      <td>84.630039</td>\n",
              "      <td>6.288119</td>\n",
              "      <td>154.318706</td>\n",
              "      <td>muskmelon</td>\n",
              "      <td>129.686617</td>\n",
              "    </tr>\n",
              "    <tr>\n",
              "      <th>3</th>\n",
              "      <td>91</td>\n",
              "      <td>56</td>\n",
              "      <td>16</td>\n",
              "      <td>27.912439</td>\n",
              "      <td>71.686600</td>\n",
              "      <td>6.579295</td>\n",
              "      <td>271.515730</td>\n",
              "      <td>apple</td>\n",
              "      <td>136.003516</td>\n",
              "    </tr>\n",
              "    <tr>\n",
              "      <th>4</th>\n",
              "      <td>80</td>\n",
              "      <td>40</td>\n",
              "      <td>49</td>\n",
              "      <td>32.372557</td>\n",
              "      <td>51.114553</td>\n",
              "      <td>5.674448</td>\n",
              "      <td>203.097574</td>\n",
              "      <td>watermelon</td>\n",
              "      <td>139.663304</td>\n",
              "    </tr>\n",
              "  </tbody>\n",
              "</table>\n",
              "</div>\n",
              "    <div class=\"colab-df-buttons\">\n",
              "\n",
              "  <div class=\"colab-df-container\">\n",
              "    <button class=\"colab-df-convert\" onclick=\"convertToInteractive('df-5b069bcc-e724-4804-91c4-65fd495b60af')\"\n",
              "            title=\"Convert this dataframe to an interactive table.\"\n",
              "            style=\"display:none;\">\n",
              "\n",
              "  <svg xmlns=\"http://www.w3.org/2000/svg\" height=\"24px\" viewBox=\"0 -960 960 960\">\n",
              "    <path d=\"M120-120v-720h720v720H120Zm60-500h600v-160H180v160Zm220 220h160v-160H400v160Zm0 220h160v-160H400v160ZM180-400h160v-160H180v160Zm440 0h160v-160H620v160ZM180-180h160v-160H180v160Zm440 0h160v-160H620v160Z\"/>\n",
              "  </svg>\n",
              "    </button>\n",
              "\n",
              "  <style>\n",
              "    .colab-df-container {\n",
              "      display:flex;\n",
              "      gap: 12px;\n",
              "    }\n",
              "\n",
              "    .colab-df-convert {\n",
              "      background-color: #E8F0FE;\n",
              "      border: none;\n",
              "      border-radius: 50%;\n",
              "      cursor: pointer;\n",
              "      display: none;\n",
              "      fill: #1967D2;\n",
              "      height: 32px;\n",
              "      padding: 0 0 0 0;\n",
              "      width: 32px;\n",
              "    }\n",
              "\n",
              "    .colab-df-convert:hover {\n",
              "      background-color: #E2EBFA;\n",
              "      box-shadow: 0px 1px 2px rgba(60, 64, 67, 0.3), 0px 1px 3px 1px rgba(60, 64, 67, 0.15);\n",
              "      fill: #174EA6;\n",
              "    }\n",
              "\n",
              "    .colab-df-buttons div {\n",
              "      margin-bottom: 4px;\n",
              "    }\n",
              "\n",
              "    [theme=dark] .colab-df-convert {\n",
              "      background-color: #3B4455;\n",
              "      fill: #D2E3FC;\n",
              "    }\n",
              "\n",
              "    [theme=dark] .colab-df-convert:hover {\n",
              "      background-color: #434B5C;\n",
              "      box-shadow: 0px 1px 3px 1px rgba(0, 0, 0, 0.15);\n",
              "      filter: drop-shadow(0px 1px 2px rgba(0, 0, 0, 0.3));\n",
              "      fill: #FFFFFF;\n",
              "    }\n",
              "  </style>\n",
              "\n",
              "    <script>\n",
              "      const buttonEl =\n",
              "        document.querySelector('#df-5b069bcc-e724-4804-91c4-65fd495b60af button.colab-df-convert');\n",
              "      buttonEl.style.display =\n",
              "        google.colab.kernel.accessAllowed ? 'block' : 'none';\n",
              "\n",
              "      async function convertToInteractive(key) {\n",
              "        const element = document.querySelector('#df-5b069bcc-e724-4804-91c4-65fd495b60af');\n",
              "        const dataTable =\n",
              "          await google.colab.kernel.invokeFunction('convertToInteractive',\n",
              "                                                    [key], {});\n",
              "        if (!dataTable) return;\n",
              "\n",
              "        const docLinkHtml = 'Like what you see? Visit the ' +\n",
              "          '<a target=\"_blank\" href=https://colab.research.google.com/notebooks/data_table.ipynb>data table notebook</a>'\n",
              "          + ' to learn more about interactive tables.';\n",
              "        element.innerHTML = '';\n",
              "        dataTable['output_type'] = 'display_data';\n",
              "        await google.colab.output.renderOutput(dataTable, element);\n",
              "        const docLink = document.createElement('div');\n",
              "        docLink.innerHTML = docLinkHtml;\n",
              "        element.appendChild(docLink);\n",
              "      }\n",
              "    </script>\n",
              "  </div>\n",
              "\n",
              "\n",
              "<div id=\"df-0e7b08a4-3999-4b54-a41c-2b96c0261682\">\n",
              "  <button class=\"colab-df-quickchart\" onclick=\"quickchart('df-0e7b08a4-3999-4b54-a41c-2b96c0261682')\"\n",
              "            title=\"Suggest charts\"\n",
              "            style=\"display:none;\">\n",
              "\n",
              "<svg xmlns=\"http://www.w3.org/2000/svg\" height=\"24px\"viewBox=\"0 0 24 24\"\n",
              "     width=\"24px\">\n",
              "    <g>\n",
              "        <path d=\"M19 3H5c-1.1 0-2 .9-2 2v14c0 1.1.9 2 2 2h14c1.1 0 2-.9 2-2V5c0-1.1-.9-2-2-2zM9 17H7v-7h2v7zm4 0h-2V7h2v10zm4 0h-2v-4h2v4z\"/>\n",
              "    </g>\n",
              "</svg>\n",
              "  </button>\n",
              "\n",
              "<style>\n",
              "  .colab-df-quickchart {\n",
              "      --bg-color: #E8F0FE;\n",
              "      --fill-color: #1967D2;\n",
              "      --hover-bg-color: #E2EBFA;\n",
              "      --hover-fill-color: #174EA6;\n",
              "      --disabled-fill-color: #AAA;\n",
              "      --disabled-bg-color: #DDD;\n",
              "  }\n",
              "\n",
              "  [theme=dark] .colab-df-quickchart {\n",
              "      --bg-color: #3B4455;\n",
              "      --fill-color: #D2E3FC;\n",
              "      --hover-bg-color: #434B5C;\n",
              "      --hover-fill-color: #FFFFFF;\n",
              "      --disabled-bg-color: #3B4455;\n",
              "      --disabled-fill-color: #666;\n",
              "  }\n",
              "\n",
              "  .colab-df-quickchart {\n",
              "    background-color: var(--bg-color);\n",
              "    border: none;\n",
              "    border-radius: 50%;\n",
              "    cursor: pointer;\n",
              "    display: none;\n",
              "    fill: var(--fill-color);\n",
              "    height: 32px;\n",
              "    padding: 0;\n",
              "    width: 32px;\n",
              "  }\n",
              "\n",
              "  .colab-df-quickchart:hover {\n",
              "    background-color: var(--hover-bg-color);\n",
              "    box-shadow: 0 1px 2px rgba(60, 64, 67, 0.3), 0 1px 3px 1px rgba(60, 64, 67, 0.15);\n",
              "    fill: var(--button-hover-fill-color);\n",
              "  }\n",
              "\n",
              "  .colab-df-quickchart-complete:disabled,\n",
              "  .colab-df-quickchart-complete:disabled:hover {\n",
              "    background-color: var(--disabled-bg-color);\n",
              "    fill: var(--disabled-fill-color);\n",
              "    box-shadow: none;\n",
              "  }\n",
              "\n",
              "  .colab-df-spinner {\n",
              "    border: 2px solid var(--fill-color);\n",
              "    border-color: transparent;\n",
              "    border-bottom-color: var(--fill-color);\n",
              "    animation:\n",
              "      spin 1s steps(1) infinite;\n",
              "  }\n",
              "\n",
              "  @keyframes spin {\n",
              "    0% {\n",
              "      border-color: transparent;\n",
              "      border-bottom-color: var(--fill-color);\n",
              "      border-left-color: var(--fill-color);\n",
              "    }\n",
              "    20% {\n",
              "      border-color: transparent;\n",
              "      border-left-color: var(--fill-color);\n",
              "      border-top-color: var(--fill-color);\n",
              "    }\n",
              "    30% {\n",
              "      border-color: transparent;\n",
              "      border-left-color: var(--fill-color);\n",
              "      border-top-color: var(--fill-color);\n",
              "      border-right-color: var(--fill-color);\n",
              "    }\n",
              "    40% {\n",
              "      border-color: transparent;\n",
              "      border-right-color: var(--fill-color);\n",
              "      border-top-color: var(--fill-color);\n",
              "    }\n",
              "    60% {\n",
              "      border-color: transparent;\n",
              "      border-right-color: var(--fill-color);\n",
              "    }\n",
              "    80% {\n",
              "      border-color: transparent;\n",
              "      border-right-color: var(--fill-color);\n",
              "      border-bottom-color: var(--fill-color);\n",
              "    }\n",
              "    90% {\n",
              "      border-color: transparent;\n",
              "      border-bottom-color: var(--fill-color);\n",
              "    }\n",
              "  }\n",
              "</style>\n",
              "\n",
              "  <script>\n",
              "    async function quickchart(key) {\n",
              "      const quickchartButtonEl =\n",
              "        document.querySelector('#' + key + ' button');\n",
              "      quickchartButtonEl.disabled = true;  // To prevent multiple clicks.\n",
              "      quickchartButtonEl.classList.add('colab-df-spinner');\n",
              "      try {\n",
              "        const charts = await google.colab.kernel.invokeFunction(\n",
              "            'suggestCharts', [key], {});\n",
              "      } catch (error) {\n",
              "        console.error('Error during call to suggestCharts:', error);\n",
              "      }\n",
              "      quickchartButtonEl.classList.remove('colab-df-spinner');\n",
              "      quickchartButtonEl.classList.add('colab-df-quickchart-complete');\n",
              "    }\n",
              "    (() => {\n",
              "      let quickchartButtonEl =\n",
              "        document.querySelector('#df-0e7b08a4-3999-4b54-a41c-2b96c0261682 button');\n",
              "      quickchartButtonEl.style.display =\n",
              "        google.colab.kernel.accessAllowed ? 'block' : 'none';\n",
              "    })();\n",
              "  </script>\n",
              "</div>\n",
              "\n",
              "    </div>\n",
              "  </div>\n"
            ],
            "text/plain": [
              "     N   P   K  temperature   humidity        ph    rainfall   Crop Name  \\\n",
              "0   71  11  24    20.756834  47.368220  6.730602  364.587903       mango   \n",
              "1  112  35  51    21.568443  74.711341  6.250531  148.512204      orange   \n",
              "2   34  22  65    33.215061  84.630039  6.288119  154.318706   muskmelon   \n",
              "3   91  56  16    27.912439  71.686600  6.579295  271.515730       apple   \n",
              "4   80  40  49    32.372557  51.114553  5.674448  203.097574  watermelon   \n",
              "\n",
              "        Yield  \n",
              "0   86.042064  \n",
              "1  163.059584  \n",
              "2  129.686617  \n",
              "3  136.003516  \n",
              "4  139.663304  "
            ]
          },
          "execution_count": 24,
          "metadata": {},
          "output_type": "execute_result"
        }
      ],
      "source": [
        "# Load dataset\n",
        "from google.colab import drive\n",
        "drive.mount('/content/drive')\n",
        "\n",
        "df = pd.read_csv('crop.csv')\n",
        "df.head()"
      ]
    },
    {
      "cell_type": "markdown",
      "metadata": {
        "id": "VhT0-M1Kjknj"
      },
      "source": [
        "# **Data Preprocessing**"
      ]
    },
    {
      "cell_type": "code",
      "execution_count": 25,
      "metadata": {
        "id": "Xm-io1OzeWyn"
      },
      "outputs": [],
      "source": [
        "# Define features and target\n",
        "X = df[['N', 'P', 'K', 'temperature', 'humidity', 'ph', 'rainfall', 'Crop Name']]\n",
        "y = df['Yield']\n",
        "\n",
        "numerical_features = ['N', 'P', 'K', 'temperature', 'humidity', 'ph', 'rainfall']\n",
        "categorical_features = ['Crop Name']\n",
        "\n",
        "# Create transformers\n",
        "imputer = SimpleImputer(strategy='median')\n",
        "encoder = OneHotEncoder(handle_unknown='ignore')\n",
        "\n",
        "numerical_transformer = Pipeline(steps=[\n",
        "    ('imputer', imputer),\n",
        "    ('scaler', StandardScaler())\n",
        "])\n",
        "\n",
        "# Create preprocessing pipeline\n",
        "preprocessor = ColumnTransformer(\n",
        "    transformers=[\n",
        "        ('num', numerical_transformer, numerical_features),\n",
        "        ('cat', encoder, categorical_features)\n",
        "    ]\n",
        ")\n",
        "\n",
        "# Polynomial features\n",
        "poly = PolynomialFeatures(degree=2, include_bias=False)"
      ]
    },
    {
      "cell_type": "markdown",
      "metadata": {
        "id": "JXYK_J4hjuGe"
      },
      "source": [
        "# **Training and Testing the Model and Model Evualation**"
      ]
    },
    {
      "cell_type": "code",
      "execution_count": 26,
      "metadata": {
        "colab": {
          "base_uri": "https://localhost:8080/"
        },
        "id": "DiDBF21WeW3w",
        "outputId": "c24e906b-e376-43de-af22-4167ec5b4f87"
      },
      "outputs": [
        {
          "name": "stdout",
          "output_type": "stream",
          "text": [
            "[LightGBM] [Info] Auto-choosing col-wise multi-threading, the overhead of testing was 0.001818 seconds.\n",
            "You can set `force_col_wise=true` to remove the overhead.\n",
            "[LightGBM] [Info] Total Bins 14776\n",
            "[LightGBM] [Info] Number of data points in the train set: 3200, number of used features: 233\n",
            "[LightGBM] [Info] Start training from score 122.276061\n",
            "Model Performance:\n",
            "Linear Regression:\n",
            "  R² Score = 0.9456\n",
            "  MSE = 105.0241\n",
            "  RMSE = 10.2481\n",
            "  MAE = 8.4104\n",
            "\n",
            "Decision Tree:\n",
            "  R² Score = 0.8473\n",
            "  MSE = 295.0005\n",
            "  RMSE = 17.1756\n",
            "  MAE = 13.6775\n",
            "\n",
            "Random Forest:\n",
            "  R² Score = 0.9279\n",
            "  MSE = 139.2196\n",
            "  RMSE = 11.7991\n",
            "  MAE = 9.4579\n",
            "\n",
            "SVR:\n",
            "  R² Score = 0.6451\n",
            "  MSE = 685.4751\n",
            "  RMSE = 26.1816\n",
            "  MAE = 19.3397\n",
            "\n",
            "KNN:\n",
            "  R² Score = 0.8472\n",
            "  MSE = 295.1848\n",
            "  RMSE = 17.1809\n",
            "  MAE = 13.5796\n",
            "\n",
            "XGBoost:\n",
            "  R² Score = 0.9260\n",
            "  MSE = 142.9195\n",
            "  RMSE = 11.9549\n",
            "  MAE = 9.6797\n",
            "\n",
            "LightGBM:\n",
            "  R² Score = 0.9361\n",
            "  MSE = 123.3454\n",
            "  RMSE = 11.1061\n",
            "  MAE = 9.1111\n",
            "\n"
          ]
        }
      ],
      "source": [
        "# Define models (excluding MLPRegressor for now)\n",
        "models = {\n",
        "    'Linear Regression': LinearRegression(),\n",
        "    'Decision Tree': DecisionTreeRegressor(),\n",
        "    'Random Forest': RandomForestRegressor(),\n",
        "    'SVR': SVR(),\n",
        "    'KNN': KNeighborsRegressor(),\n",
        "    'XGBoost': xgb.XGBRegressor(),\n",
        "    'LightGBM': lgb.LGBMRegressor()\n",
        "}\n",
        "\n",
        "# Split the data\n",
        "X_train, X_test, y_train, y_test = train_test_split(X, y, test_size=0.2, random_state=42)\n",
        "\n",
        "# Train models and evaluate performance\n",
        "model_pipelines = {}\n",
        "performance_metrics = {}\n",
        "\n",
        "for name, model in models.items():\n",
        "    pipeline = Pipeline(steps=[\n",
        "        ('preprocessor', preprocessor),\n",
        "        ('poly', poly),\n",
        "        ('model', model)\n",
        "    ])\n",
        "\n",
        "    pipeline.fit(X_train, y_train)\n",
        "\n",
        "    y_pred = pipeline.predict(X_test)\n",
        "    r2 = r2_score(y_test, y_pred)\n",
        "    mse = mean_squared_error(y_test, y_pred)\n",
        "    rmse = np.sqrt(mse)\n",
        "    mae = mean_absolute_error(y_test, y_pred)\n",
        "\n",
        "    model_pipelines[name] = pipeline\n",
        "    performance_metrics[name] = {\n",
        "        'R² Score': r2,\n",
        "        'MSE': mse,\n",
        "        'RMSE': rmse,\n",
        "        'MAE': mae\n",
        "    }\n",
        "\n",
        "# Print model performance\n",
        "print(\"Model Performance:\")\n",
        "for name, metrics in performance_metrics.items():\n",
        "    print(f\"{name}:\")\n",
        "    for metric_name, metric_value in metrics.items():\n",
        "        print(f\"  {metric_name} = {metric_value:.4f}\")\n",
        "    print()"
      ]
    },
    {
      "cell_type": "markdown",
      "metadata": {
        "id": "AA-Qb6ANmBXF"
      },
      "source": [
        "# Graphical representation"
      ]
    },
    {
      "cell_type": "code",
      "execution_count": 27,
      "metadata": {
        "colab": {
          "base_uri": "https://localhost:8080/",
          "height": 680
        },
        "id": "7FvP4U_qmL2B",
        "outputId": "a27af2bb-99f6-4545-891a-22cf6d4a37c1"
      },
      "outputs": [
        {
          "name": "stderr",
          "output_type": "stream",
          "text": [
            "<ipython-input-27-fadd5705095a>:10: FutureWarning: \n",
            "\n",
            "Passing `palette` without assigning `hue` is deprecated and will be removed in v0.14.0. Assign the `y` variable to `hue` and set `legend=False` for the same effect.\n",
            "\n",
            "  sns.barplot(x=r2_scores, y=model_names, palette=\"viridis\")\n"
          ]
        },
        {
          "data": {
            "image/png": "[encoded data removed]",
            "text/plain": [
              "<Figure size 1000x600 with 1 Axes>"
            ]
          },
          "metadata": {},
          "output_type": "display_data"
        }
      ],
      "source": [
        "import matplotlib.pyplot as plt\n",
        "import seaborn as sns\n",
        "\n",
        "# Extract model names and R² scores\n",
        "model_names = list(performance_metrics.keys())\n",
        "r2_scores = [metrics['R² Score'] for metrics in performance_metrics.values()]\n",
        "\n",
        "# Create a bar plot\n",
        "plt.figure(figsize=(10, 6))\n",
        "sns.barplot(x=r2_scores, y=model_names, palette=\"viridis\")\n",
        "\n",
        "# Add labels and title\n",
        "plt.xlabel('R² Score (Accuracy)', fontsize=12)\n",
        "plt.ylabel('Model', fontsize=12)\n",
        "plt.title('Model Accuracy (R² Score) Comparison', fontsize=14)\n",
        "plt.xlim(0, 1)  # Since R² score is between 0 and 1\n",
        "plt.grid(axis='x', linestyle='--', alpha=0.7)\n",
        "\n",
        "# Display the plot\n",
        "plt.tight_layout()\n",
        "plt.show()"
      ]
    },
    {
      "cell_type": "markdown",
      "metadata": {
        "id": "2hWqZ24vj3k9"
      },
      "source": [
        "# **Best Model**"
      ]
    },
    {
      "cell_type": "code",
      "execution_count": 28,
      "metadata": {
        "colab": {
          "base_uri": "https://localhost:8080/"
        },
        "id": "mnVZfGhmgTZl",
        "outputId": "f9219325-fbec-4ed1-f094-af639b4e0868"
      },
      "outputs": [
        {
          "name": "stdout",
          "output_type": "stream",
          "text": [
            "Best Model: Linear Regression\n",
            "Performance Metrics:\n",
            "  R² Score = 0.9456\n",
            "  MSE = 105.0241\n",
            "  RMSE = 10.2481\n",
            "  MAE = 8.4104\n"
          ]
        }
      ],
      "source": [
        "# Find the best model\n",
        "best_model_name = max(performance_metrics, key=lambda k: performance_metrics[k]['R² Score'])\n",
        "best_model_pipeline = model_pipelines[best_model_name]\n",
        "\n",
        "print(f\"Best Model: {best_model_name}\")\n",
        "print(\"Performance Metrics:\")\n",
        "for metric_name, metric_value in performance_metrics[best_model_name].items():\n",
        "    print(f\"  {metric_name} = {metric_value:.4f}\")"
      ]
    },
    {
      "cell_type": "markdown",
      "metadata": {
        "id": "SpwKrF5dkB20"
      },
      "source": [
        "# **User Input**"
      ]
    },
    {
      "cell_type": "code",
      "execution_count": 29,
      "metadata": {
        "id": "aQfcKShIhBrM"
      },
      "outputs": [],
      "source": [
        "def get_user_input():\n",
        "\n",
        "    temperature = float(input(\"Enter the temperature (°C): \"))\n",
        "    humidity = float(input(\"Enter the humidity (%): \"))\n",
        "    ph = float(input(\"Enter the pH level of the soil: \"))\n",
        "    rainfall = float(input(\"Enter the rainfall (mm): \"))\n",
        "    crop_name = input(\"Enter the crop name: \")\n",
        "    N = float(input(\"Enter the current Nitrogen (N) level: \"))\n",
        "    P = float(input(\"Enter the current Phosphorus (P) level: \"))\n",
        "    K = float(input(\"Enter the current Potassium (K) level: \"))\n",
        "\n",
        "    current_conditions = {\n",
        "        'temperature': temperature,\n",
        "        'humidity': humidity,\n",
        "        'ph': ph,\n",
        "        'rainfall': rainfall,\n",
        "        'Crop Name': crop_name,\n",
        "        'N': N,\n",
        "        'P': P,\n",
        "        'K': K\n",
        "    }\n",
        "\n",
        "    return current_conditions"
      ]
    },
    {
      "cell_type": "markdown",
      "metadata": {
        "id": "g0URV8TckJab"
      },
      "source": [
        "# **Prediction and Recommendation**"
      ]
    },
    {
      "cell_type": "code",
      "execution_count": 30,
      "metadata": {
        "colab": {
          "base_uri": "https://localhost:8080/"
        },
        "id": "RCO-di6ihBhl",
        "outputId": "810737eb-01dc-4e79-a4e0-04b5736eb460"
      },
      "outputs": [
        {
          "name": "stdout",
          "output_type": "stream",
          "text": [
            "Enter the temperature (°C): 40\n",
            "Enter the humidity (%): 10\n",
            "Enter the pH level of the soil: 5\n",
            "Enter the rainfall (mm): 200\n",
            "Enter the crop name: grapes\n",
            "Enter the current Nitrogen (N) level: 10\n",
            "Enter the current Phosphorus (P) level: 40\n",
            "Enter the current Potassium (K) level: 30\n",
            "\n",
            "Recommendations: \n",
            "Add 52.89 kg/ha of N, 22.89 kg/ha of P, and 32.89 kg/ha of K.\n",
            "Suggestions:\n",
            "Use kelp or seaweed-based fertilizers to supply potassium and trace minerals.\n",
            "Apply well-aged compost to provide a balanced mix of nutrients and improve soil fertility.\n",
            "Use organic manure (e.g., cow, chicken, or horse manure) to supplement N, P, and K levels naturally. \n"
          ]
        }
      ],
      "source": [
        "def predict_and_recommend(pipeline, current_conditions):\n",
        "\n",
        "    # Convert current conditions dictionary to DataFrame\n",
        "    conditions_df = pd.DataFrame([current_conditions])\n",
        "\n",
        "    predicted_nutrients = pipeline.predict(conditions_df)\n",
        "\n",
        "    # Check if predictions are in the expected shape\n",
        "    if predicted_nutrients.ndim == 1:\n",
        "\n",
        "        # If only one value is returned (e.g., for single output regression)\n",
        "        predicted_nutrients = np.expand_dims(predicted_nutrients, axis=0)\n",
        "\n",
        "    current_nutrients = np.array([current_conditions['N'], current_conditions['P'], current_conditions['K']])\n",
        "\n",
        "    additional_amounts = predicted_nutrients - current_nutrients\n",
        "\n",
        "    # Ensure additional_amounts is a 2D array\n",
        "    if additional_amounts.ndim == 1:\n",
        "        additional_amounts = np.expand_dims(additional_amounts, axis=0)\n",
        "\n",
        "    extra_N, extra_P, extra_K = additional_amounts[0]\n",
        "\n",
        "    result = {}\n",
        "    suggestions = []\n",
        "\n",
        "\n",
        "    if extra_N > 0 and extra_P > 0 and extra_K > 0:\n",
        "        suggestions.append(f\"\\nRecommendations: \\nAdd {extra_N:.2f} kg/ha of N, {extra_P:.2f} kg/ha of P, and {extra_K:.2f} kg/ha of K.\\nSuggestions:\\nUse kelp or seaweed-based fertilizers to supply potassium and trace minerals.\\nApply well-aged compost to provide a balanced mix of nutrients and improve soil fertility.\\nUse organic manure (e.g., cow, chicken, or horse manure) to supplement N, P, and K levels naturally. \")\n",
        "    elif extra_N > 0 and extra_P > 0:\n",
        "        suggestions.append(f\"\\nRecommendations: \\nAdd {extra_N:.2f} kg/ha of N and {extra_P:.2f} kg/ha of P.\\nSuggestions:\\nUse wood ash to increase potassium levels and improve soil structure. Apply it sparingly to avoid excessive alkalinity.\\nIncorporate composted organic materials to gradually supply both phosphorus and potassium, along with other essential nutrients.\\nApply kelp meal or seaweed extracts to provide a natural source of potassium and trace minerals.\")\n",
        "    elif extra_N > 0 and extra_K > 0:\n",
        "        suggestions.append(f\"\\nRecommendations: \\nAdd {extra_N:.2f} kg/ha of N and {extra_K:.2f} kg/ha of K.\\nSuggestions:\\nUse compost or well-rotted manure, which provides a balanced supply of nutrients, including nitrogen and potassium.\\nAdd natural sources of potassium, such as wood ash, seaweed, or potassium-rich rock minerals (e.g., greensand).\\nRotate crops to include nitrogen-fixing plants and those that benefit from increased potassium to balance nutrient levels over time.\")\n",
        "    elif extra_P > 0 and extra_K > 0:\n",
        "        suggestions.append(f\"\\nRecommendations: \\nAdd {extra_P:.2f} kg/ha of P and {extra_K:.2f} kg/ha of K.\\nSuggestions:\\nBury or compost banana peels, which are an excellent source of potassium, to naturally boost potassium levels in the soil.\\nUse well-composted animal manure, which provides both phosphorus and potassium, along with other essential nutrients.\\nApply rock phosphate for a natural and long-lasting phosphorus source that enhances soil fertility over time.\")\n",
        "    elif extra_N > 0:\n",
        "        suggestions.append(f\"\\nRecommendations: \\nAdd {extra_N:.2f} kg/ha of N.\\nSuggestions:\\nPlant legumes like beans, peas, or clover that have symbiotic bacteria in their roots to fix atmospheric nitrogen into the soil.\\nSow green manures (e.g., alfalfa, hairy vetch) to add nitrogen to the soil when tilled back in.\\nUse organic nitrogen-rich fertilizers like blood meal, fish emulsion, or feather meal to increase soil nitrogen levels.\")\n",
        "    elif extra_P > 0:\n",
        "        suggestions.append(f\"\\nRecommendations: \\nAdd {extra_P:.2f} kg/ha of P.\\nSuggestions:\\nAdd bone meal, a slow-release organic fertilizer rich in phosphorus, to improve P levels in the soil.\\nUse rock phosphate, a natural mineral that provides a slow, steady release of phosphorus.\\nIncorporate well-decomposed compost and animal manure, which can gradually increase phosphorus content.\\n\")\n",
        "    elif extra_K > 0:\n",
        "        suggestions.append(f\"\\nRecommendations: \\nAdd {extra_K:.2f} kg/ha of K.\\nSuggestions:\\nApply wood ash, as it is rich in potassium and acts as a quick-release organic source.\\nIncorporate compost made from banana peels, which are naturally high in potassium.\\nUse seaweed-based fertilizers or extracts that provide potassium along with trace minerals.\")\n",
        "\n",
        "\n",
        "    if extra_N <= 0:\n",
        "        suggestions.append(\"\\nRecommendations: \\nN is more than expected or no extra N needed.\\nSuggestions:\\nApply high-carbon materials like straw to balance nitrogen.\\nIntroduce nitrogen-fixing cover crops like legumes (e.g., clover, alfalfa, or beans) in crop rotation.\\nReduce irrigation or manage it more carefully to prevent excess nitrogen from leaching deeper into the soil.\")\n",
        "    if extra_P <= 0:\n",
        "        suggestions.append(\"\\nRecommendations: \\nP is more than expected or no extra P needed.\\nSuggestions:\\nUse manures low in phosphorus and balance nutrients with compost.\\n Incorporate compost, leaf litter, or well-rotted manure to balance nutrients and encourage microbial activity that helps absorb excess phosphorus.\\n Plant species like lupine or beans that help bind phosphorus in the soil, making it less available to other plants.\")\n",
        "    if extra_K <= 0:\n",
        "        suggestions.append(\"\\nRecommendations: \\nK is more than expected or no extra K needed.\\nSuggestions:\\nIncorporate compost or well-rotted manure to balance soil nutrients and improve soil structure.\\nApply organic mulch, such as straw or leaves, to reduce potassium leaching and improve soil health.\\nPlant cover crops like clover or legumes to help absorb excess potassium and improve soil nutrient balance.\")\n",
        "\n",
        "    result['suggestions'] = suggestions\n",
        "\n",
        "    return result\n",
        "\n",
        "if __name__ == \"__main__\":\n",
        "    current_conditions = get_user_input()\n",
        "    recommendations = predict_and_recommend(pipeline, current_conditions)\n",
        "    print(\"\\n\".join(recommendations['suggestions']))"
      ]
    },
    {
      "cell_type": "markdown",
      "metadata": {
        "id": "1w4wyVf7kYBU"
      },
      "source": [
        "## Saving .pkl files"
      ]
    },
    {
      "cell_type": "code",
      "execution_count": 31,
      "metadata": {
        "colab": {
          "base_uri": "https://localhost:8080/"
        },
        "id": "Uwa0SecMgTSV",
        "outputId": "f6608937-98be-4307-8b5c-459064e6b235"
      },
      "outputs": [
        {
          "data": {
            "text/plain": [
              "['polynomial_features.joblib']"
            ]
          },
          "execution_count": 31,
          "metadata": {},
          "output_type": "execute_result"
        }
      ],
      "source": [
        "import joblib\n",
        "\n",
        "# Save the best model pipeline\n",
        "joblib.dump(best_model_pipeline, 'best_model_pipeline.joblib')\n",
        "\n",
        "# Save the preprocessor and polynomial features separately if needed\n",
        "joblib.dump(preprocessor, 'preprocessor.joblib')\n",
        "joblib.dump(poly, 'polynomial_features.joblib')"
      ]
    }
  ],
  "metadata": {
    "colab": {
      "provenance": []
    },
    "kernelspec": {
      "display_name": "Python 3",
      "name": "python3"
    },
    "language_info": {
      "name": "python"
    }
  },
  "nbformat": 4,
  "nbformat_minor": 0
}
